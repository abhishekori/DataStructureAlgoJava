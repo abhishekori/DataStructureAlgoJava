{
 "cells": [
  {
   "cell_type": "code",
   "execution_count": 44,
   "metadata": {
    "collapsed": false
   },
   "outputs": [],
   "source": [
    "def reversewords(words):\n",
    "    \n",
    "    return words[::-1]\n",
    "    \n",
    "    \n",
    "def sen_rev(s):\n",
    "    words=[]\n",
    "    length = len(s)\n",
    "    space=[\" \"]\n",
    "    sentence=\"\"\n",
    "    \n",
    "    i=0\n",
    "    \n",
    "    while i<length:\n",
    "        if s[i] not in space:\n",
    "            word_start = i\n",
    "            while i < length and s[i] not in space:\n",
    "                i+=1\n",
    "            \n",
    "            words.append(s[word_start:i])\n",
    "        i+=1\n",
    "        \n",
    "    #print words    \n",
    "    for i in reversewords(words):\n",
    "        sentence=sentence+\" \"+i\n",
    "    print sentence\n",
    "    \n",
    "   # return \" \".join(reversewords(words))\n",
    "    \n"
   ]
  },
  {
   "cell_type": "code",
   "execution_count": 45,
   "metadata": {
    "collapsed": false
   },
   "outputs": [
    {
     "name": "stdout",
     "output_type": "stream",
     "text": [
      " person great a am i hi\n"
     ]
    }
   ],
   "source": [
    "sen_rev('                 hi i am a great person')"
   ]
  },
  {
   "cell_type": "code",
   "execution_count": null,
   "metadata": {
    "collapsed": true
   },
   "outputs": [],
   "source": []
  }
 ],
 "metadata": {
  "kernelspec": {
   "display_name": "Python 2",
   "language": "python",
   "name": "python2"
  },
  "language_info": {
   "codemirror_mode": {
    "name": "ipython",
    "version": 2
   },
   "file_extension": ".py",
   "mimetype": "text/x-python",
   "name": "python",
   "nbconvert_exporter": "python",
   "pygments_lexer": "ipython2",
   "version": "2.7.12"
  }
 },
 "nbformat": 4,
 "nbformat_minor": 0
}
