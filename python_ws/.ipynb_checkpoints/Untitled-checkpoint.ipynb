{
 "cells": [
  {
   "cell_type": "code",
   "execution_count": 3,
   "metadata": {
    "collapsed": true
   },
   "outputs": [],
   "source": [
    " def str_com(strr):\n",
    "    \n",
    "    r=\"\"\n",
    "    l=len(strr)\n",
    "    \n",
    "    if l==0:\n",
    "        return 0\n",
    "    \n",
    "    if l==1:\n",
    "        return strr+\"1\"\n",
    "    \n",
    "    first=strr[0]\n",
    "    cnt=1\n",
    "    i=1\n",
    "    \n",
    "    while i<len:\n",
    "        if strr[i]==strr[i-1]:\n",
    "            cnt+=1\n",
    "            \n",
    "        else:\n",
    "            r=r+strr[i-1] + str(cnt)\n",
    "            cnt=1\n",
    "    \n",
    "    r=r+s[i-1]+str(cnt)\n",
    "    return r"
   ]
  },
  {
   "cell_type": "code",
   "execution_count": 2,
   "metadata": {
    "collapsed": false
   },
   "outputs": [
    {
     "data": {
      "text/plain": [
       "'a3'"
      ]
     },
     "execution_count": 2,
     "metadata": {},
     "output_type": "execute_result"
    }
   ],
   "source": []
  },
  {
   "cell_type": "code",
   "execution_count": null,
   "metadata": {
    "collapsed": true
   },
   "outputs": [],
   "source": []
  }
 ],
 "metadata": {
  "kernelspec": {
   "display_name": "Python 2",
   "language": "python",
   "name": "python2"
  },
  "language_info": {
   "codemirror_mode": {
    "name": "ipython",
    "version": 2
   },
   "file_extension": ".py",
   "mimetype": "text/x-python",
   "name": "python",
   "nbconvert_exporter": "python",
   "pygments_lexer": "ipython2",
   "version": "2.7.12"
  }
 },
 "nbformat": 4,
 "nbformat_minor": 0
}
